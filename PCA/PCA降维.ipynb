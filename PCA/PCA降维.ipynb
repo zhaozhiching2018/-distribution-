{
 "cells": [
  {
   "cell_type": "code",
   "execution_count": 2,
   "metadata": {},
   "outputs": [
    {
     "data": {
      "text/plain": [
       "array([[-60.75736223, -12.19521245],\n",
       "       [-58.58690979, -11.18038148],\n",
       "       [-56.44387285, -12.91248759],\n",
       "       [-53.37066429, -13.9548689 ],\n",
       "       [ 35.60138485,  21.25057358],\n",
       "       [ 40.81318154,  33.13466256],\n",
       "       [  4.55357438,  -8.43499281],\n",
       "       [  8.93478357,  27.43628287],\n",
       "       [ 64.17548286, -13.85436586],\n",
       "       [ 68.25858524, -14.38520904],\n",
       "       [ 44.98702338,   4.13166068],\n",
       "       [ 49.83517813,  -2.45454096],\n",
       "       [ 55.34349672,  22.80786009],\n",
       "       [ 59.07587246,  -6.33170857],\n",
       "       [-22.36699377, -11.46035245],\n",
       "       [-19.23580367,  -8.32640089],\n",
       "       [-16.08571032, -13.09769719],\n",
       "       [-12.00260794, -13.62854037],\n",
       "       [ 73.3575694 , -12.17132709],\n",
       "       [ 78.60721836,  -9.96569042],\n",
       "       [-51.21250088, -12.53814231],\n",
       "       [-49.19581802,  -4.06548137],\n",
       "       [-45.94960422,  22.02594477],\n",
       "       [-43.86075274,  52.42858014],\n",
       "       [-41.44547813,  12.64515281],\n",
       "       [-38.32342653,  14.86345867],\n",
       "       [ -8.88370688, -10.0926932 ],\n",
       "       [ -5.7644927 , -11.42511566],\n",
       "       [ -1.66910128, -12.35785445],\n",
       "       [  1.61145535,   4.10888691]])"
      ]
     },
     "execution_count": 2,
     "metadata": {},
     "output_type": "execute_result"
    }
   ],
   "source": [
    "from sklearn.decomposition import PCA\n",
    "import matplotlib.pyplot as plt\n",
    "data = [[3, 5, 3, 6],\n",
    "        [4, 3, 5, 8],\n",
    "        [5, 1, 4, 10],\n",
    "        [6, 3, 2, 13],\n",
    "        [19, 23, 32, 101],\n",
    "        [20, 23, 45, 106],\n",
    "        [23, 6, 7, 69],\n",
    "        [24, 11, 44, 73],\n",
    "        [25, 2, 3, 129],\n",
    "        [26, 3, 2, 133],\n",
    "        [21, 1, 23, 110],\n",
    "        [22, 12, 11, 115],\n",
    "        [23, 2, 43, 120],\n",
    "        [24, 7, 9, 124],\n",
    "        [15, 5, 4, 43],\n",
    "        [16, 6, 7, 46],\n",
    "        [17, 1, 4, 49],\n",
    "        [18, 2, 3, 53],\n",
    "        [27, 4, 4, 138],\n",
    "        [29, 5, 6, 143],\n",
    "        [7, 2, 4, 15],\n",
    "        [8, 14, 8, 17],\n",
    "        [9, 22, 33, 20],\n",
    "        [10, 43, 57, 22],\n",
    "        [11, 1, 32, 24],\n",
    "        [12, 2, 34, 27],\n",
    "        [19, 4, 6, 56],\n",
    "        [20, 3, 5, 59],\n",
    "        [21, 3, 4, 63],\n",
    "        [22, 3, 22, 66]\n",
    "        ]\n",
    "target = [0, 0, 0, 0, 2, 2, 1, 1, 2, 2, 2, 2, 2, 2, 1, 1, 1, 1, 2, 2, 0, 0, 0, 0, 0, 0, 1, 1, 1, 1] \n",
    "Data = {'data':data, 'target':target} \n",
    "# 将数据部分复制到X，将标签部分复制到y：\n",
    "X = Data['data']\n",
    "y = Data['target']\n",
    "# 用PCA()生成pca降维器，设置目标维度数n_components=2，即将数据降至二维：\n",
    "pca = PCA(n_components=2)\n",
    "# 将数据X传入降维器pca的接口fit_transform()，降维后的数据返回给reduced_X:\n",
    "reduced_X = pca.fit_transform(X)\n",
    "reduced_X"
   ]
  },
  {
   "cell_type": "code",
   "execution_count": 3,
   "metadata": {},
   "outputs": [
    {
     "data": {
      "image/png": "[encoded data removed]",
      "text/plain": [
       "<Figure size 432x288 with 1 Axes>"
      ]
     },
     "metadata": {
      "needs_background": "light"
     },
     "output_type": "display_data"
    }
   ],
   "source": [
    "# 原本的30条4维数据被转化为了30条2维数据。\n",
    "# 下面对三类数据描点作图：\n",
    "# 生成三类数据的x和y轴坐标列表：\n",
    "A_x, A_y = [], []\n",
    "B_x, B_y = [], []\n",
    "C_x, C_y = [], []\n",
    "# 使用标签信息将二维数据填入三类数据x.y.坐标列表：\n",
    "for i in range(len(reduced_X)):\n",
    "    if (y[i] == 0):\n",
    "        A_x.append(reduced_X[i][0])\n",
    "        A_y.append(reduced_X[i][1])\n",
    "    elif (y[i] == 1):\n",
    "        B_x.append(reduced_X[i][0])\n",
    "        B_y.append(reduced_X[i][1])\n",
    "    elif (y[i] == 2):\n",
    "        C_x.append(reduced_X[i][0])\n",
    "        C_y.append(reduced_X[i][1])\n",
    "# plt.scatter()的前两个参数为坐标列表，第三个参数c为颜色(取值:'r'红, 'b'蓝, 'g'绿, 等等)，\n",
    "# 第四个参数为散点形状(取值‘D’菱方块, ‘.‘小圆点, 'x'叉叉)\n",
    "plt.scatter(A_x, A_y, c='y', marker='s')\n",
    "plt.scatter(B_x, B_y, c='b', marker='x')\n",
    "plt.scatter(C_x, C_y, c='g', marker='.')\n",
    "plt.show()"
   ]
  },
  {
   "cell_type": "code",
   "execution_count": null,
   "metadata": {},
   "outputs": [],
   "source": []
  }
 ],
 "metadata": {
  "kernelspec": {
   "display_name": "Python 3",
   "language": "python",
   "name": "python3"
  },
  "language_info": {
   "codemirror_mode": {
    "name": "ipython",
    "version": 3
   },
   "file_extension": ".py",
   "mimetype": "text/x-python",
   "name": "python",
   "nbconvert_exporter": "python",
   "pygments_lexer": "ipython3",
   "version": "3.7.4"
  }
 },
 "nbformat": 4,
 "nbformat_minor": 2
}
